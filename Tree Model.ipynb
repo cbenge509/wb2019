{
 "cells": [
  {
   "cell_type": "code",
   "execution_count": 1,
   "metadata": {},
   "outputs": [],
   "source": [
    "import pickle\n",
    "import pandas as pd\n",
    "import numpy as np\n",
    "\n",
    "from sklearn.feature_extraction.text import CountVectorizer, TfidfVectorizer\n",
    "from sklearn.metrics import f1_score, precision_score, recall_score\n",
    "from sklearn.model_selection import train_test_split\n",
    "\n",
    "import lightgbm as lgb\n",
    "#from wordbatch.extractors import WordBag, WordHash"
   ]
  },
  {
   "cell_type": "code",
   "execution_count": 2,
   "metadata": {},
   "outputs": [],
   "source": [
    "train = pickle.load(open('../data/train_preprocessed.pkl','rb'))\n",
    "test = pickle.load(open('../data/test_preprocessed.pkl','rb'))\n",
    "labels = pickle.load(open('../data/labels_preprocessed.pkl','rb'))\n",
    "test_pre_pred = pickle.load(open('../data/test_predicted.pkl','rb'))\n",
    "cols_target = [x for x in labels.columns if x != 'row_id']\n",
    "\n",
    "sub = test.copy()\n",
    "sub.drop(columns=['doc_text'], inplace=True)\n",
    "for _col in labels:\n",
    "    sub[_col] = np.uint8(0)\n",
    "\n",
    "    #train, val, labels, val_labels = train_test_split(train, labels, random_state=42,\n",
    "#                                                 test_size=0.1, shuffle=True)"
   ]
  },
  {
   "cell_type": "markdown",
   "metadata": {},
   "source": [
    "## Utility Functions"
   ]
  },
  {
   "cell_type": "code",
   "execution_count": 3,
   "metadata": {},
   "outputs": [],
   "source": [
    "def GetMicroAccuracy(labels, predictions):\n",
    "    _val_f1 = f1_score(labels, predictions, average='micro')\n",
    "    _val_recall = recall_score(labels, predictions, average='micro')\n",
    "    _val_precision = precision_score(labels, predictions, average='micro')\n",
    "    print (\"[Weighted] F1 Score: %f,  Precision: %f,  Recall: %f\" % (_val_f1, _val_precision, _val_recall))"
   ]
  },
  {
   "cell_type": "markdown",
   "metadata": {},
   "source": [
    "## TF-IDF Data Prep"
   ]
  },
  {
   "cell_type": "code",
   "execution_count": 4,
   "metadata": {},
   "outputs": [],
   "source": [
    "vect = TfidfVectorizer(max_features=5000, stop_words='english', ngram_range=(1,3), min_df=5e-4)\n",
    "x = vect.fit_transform(train.doc_text.values)\n",
    "test_x = vect.transform(test.doc_text.values)"
   ]
  },
  {
   "cell_type": "markdown",
   "metadata": {},
   "source": [
    "## <font color=\"Red\">LightGBM </font> Model"
   ]
  },
  {
   "cell_type": "code",
   "execution_count": 5,
   "metadata": {
    "scrolled": true
   },
   "outputs": [
    {
     "name": "stdout",
     "output_type": "stream",
     "text": [
      "learning \"information_and_communication_technologies\"...\n",
      "learning \"governance\"...\n",
      "learning \"urban_development\"...\n",
      "learning \"law_and_development\"...\n",
      "learning \"public_sector_development\"...\n",
      "learning \"agriculture\"...\n",
      "learning \"communities_and_human_settlements\"...\n",
      "learning \"health_and_nutrition_and_population\"...\n",
      "learning \"culture_and_development\"...\n",
      "learning \"environment\"...\n",
      "learning \"social_protections_and_labor\"...\n",
      "learning \"industry\"...\n",
      "learning \"macroeconomics_and_economic_growth\"...\n",
      "learning \"international_economics_and_trade\"...\n",
      "learning \"conflict_and_development\"...\n",
      "learning \"finance_and_financial_sector_development\"...\n",
      "learning \"science_and_technology_development\"...\n",
      "learning \"rural_development\"...\n",
      "learning \"poverty_reduction\"...\n",
      "learning \"private_sector_development\"...\n",
      "learning \"informatics\"...\n",
      "learning \"energy\"...\n",
      "learning \"social_development\"...\n",
      "learning \"water_resources\"...\n",
      "learning \"education\"...\n",
      "learning \"transport\"...\n",
      "learning \"water_supply_and_sanitation\"...\n",
      "learning \"gender\"...\n",
      "learning \"infrastructure_economics_and_finance\"...\n"
     ]
    }
   ],
   "source": [
    "params = {\n",
    "    'boosting_type':'gbdt',\n",
    "    'random_state':736283,\n",
    "    'objective':'binary',\n",
    "    'metric':'auc',\n",
    "    'max_bin':255,\n",
    "    'num_leaves':200,\n",
    "    'learning_rate':0.1,\n",
    "    'tree_learner':'feature',\n",
    "    'n_estimators':300,\n",
    "    'n_jobs':-1,\n",
    "    'nthread':-1,\n",
    "    'verbosity':-1,\n",
    "    'reg_lambda':0.001,\n",
    "    'feature_fraction':0.9\n",
    "}\n",
    "\n",
    "model = lgb.LGBMClassifier(**params)\n",
    "\n",
    "for cls in list(labels.columns.values):\n",
    "    print('learning \"%s\"...' % cls)\n",
    "    model.fit(x, labels[cls].values)\n",
    "    sub[cls] = model.predict(test_x).round().astype(np.uint8)\n",
    "    "
   ]
  },
  {
   "cell_type": "code",
   "execution_count": 6,
   "metadata": {},
   "outputs": [],
   "source": [
    "sub = pd.concat([sub,test_pre_pred]).sort_values(by='row_id')"
   ]
  },
  {
   "cell_type": "code",
   "execution_count": 7,
   "metadata": {},
   "outputs": [],
   "source": [
    "sub.to_csv('../submissions/lightgbm_model_5k.csv')"
   ]
  },
  {
   "cell_type": "code",
   "execution_count": null,
   "metadata": {},
   "outputs": [],
   "source": []
  }
 ],
 "metadata": {
  "kernelspec": {
   "display_name": "Python 3",
   "language": "python",
   "name": "python3"
  },
  "language_info": {
   "codemirror_mode": {
    "name": "ipython",
    "version": 3
   },
   "file_extension": ".py",
   "mimetype": "text/x-python",
   "name": "python",
   "nbconvert_exporter": "python",
   "pygments_lexer": "ipython3",
   "version": "3.6.7"
  }
 },
 "nbformat": 4,
 "nbformat_minor": 2
}
